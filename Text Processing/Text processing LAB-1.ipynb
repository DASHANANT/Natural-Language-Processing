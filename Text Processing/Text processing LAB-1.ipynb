{
 "cells": [
  {
   "cell_type": "markdown",
   "metadata": {},
   "source": [
    "# Text processing LAB-1"
   ]
  },
  {
   "cell_type": "markdown",
   "metadata": {},
   "source": [
    "## Python - String Immutability"
   ]
  },
  {
   "cell_type": "code",
   "execution_count": 1,
   "metadata": {},
   "outputs": [
    {
     "name": "stdout",
     "output_type": "stream",
     "text": [
      "<class 'str'>\n"
     ]
    },
    {
     "ename": "TypeError",
     "evalue": "'str' object does not support item assignment",
     "output_type": "error",
     "traceback": [
      "\u001b[1;31m---------------------------------------------------------------------------\u001b[0m",
      "\u001b[1;31mTypeError\u001b[0m                                 Traceback (most recent call last)",
      "\u001b[1;32m<ipython-input-1-e51930b5ace7>\u001b[0m in \u001b[0;36m<module>\u001b[1;34m\u001b[0m\n\u001b[0;32m      1\u001b[0m \u001b[0mt\u001b[0m\u001b[1;33m=\u001b[0m \u001b[1;34m\"Tutorialspoint\"\u001b[0m\u001b[1;33m\u001b[0m\u001b[1;33m\u001b[0m\u001b[0m\n\u001b[0;32m      2\u001b[0m \u001b[0mprint\u001b[0m\u001b[1;33m(\u001b[0m\u001b[0mtype\u001b[0m\u001b[1;33m(\u001b[0m\u001b[0mt\u001b[0m\u001b[1;33m)\u001b[0m\u001b[1;33m)\u001b[0m\u001b[1;33m\u001b[0m\u001b[1;33m\u001b[0m\u001b[0m\n\u001b[1;32m----> 3\u001b[1;33m \u001b[0mt\u001b[0m\u001b[1;33m[\u001b[0m\u001b[1;36m0\u001b[0m\u001b[1;33m]\u001b[0m \u001b[1;33m=\u001b[0m \u001b[1;34m\"M\"\u001b[0m\u001b[1;33m\u001b[0m\u001b[1;33m\u001b[0m\u001b[0m\n\u001b[0m",
      "\u001b[1;31mTypeError\u001b[0m: 'str' object does not support item assignment"
     ]
    }
   ],
   "source": [
    "t= \"Tutorialspoint\"\n",
    "print(type(t))\n",
    "t[0] = \"M\""
   ]
  },
  {
   "cell_type": "code",
   "execution_count": 2,
   "metadata": {},
   "outputs": [
    {
     "name": "stdout",
     "output_type": "stream",
     "text": [
      "<class 'str'>\n",
      "b = 2525913420144\n",
      "a = 2525913439984\n",
      "n = 2525911992304\n",
      "a = 2525913439984\n",
      "n = 2525911992304\n"
     ]
    }
   ],
   "source": [
    "x = 'banana'\n",
    "print(type(x))\n",
    "for idx in range (0,5):\n",
    "  print(x[idx], \"=\", id(x[idx]))\n"
   ]
  },
  {
   "cell_type": "markdown",
   "metadata": {},
   "source": [
    "## Opening Text File"
   ]
  },
  {
   "cell_type": "code",
   "execution_count": 5,
   "metadata": {},
   "outputs": [
    {
     "name": "stdout",
     "output_type": "stream",
     "text": [
      "Summer is here.\n",
      "Sky is bright.\n",
      "Birds are gone.\n",
      "Nests are empty.\n",
      "Where is Rain?\n",
      "\n"
     ]
    }
   ],
   "source": [
    "f = open(\"poem.txt\", \"r\")\n",
    "print(f.read())\n"
   ]
  },
  {
   "cell_type": "markdown",
   "metadata": {},
   "source": [
    "##  Sorting Lines"
   ]
  },
  {
   "cell_type": "code",
   "execution_count": 10,
   "metadata": {},
   "outputs": [
    {
     "name": "stdout",
     "output_type": "stream",
     "text": [
      "Birds are gone.\n",
      "\n",
      "Nests are empty.\n",
      "\n",
      "Sky is bright.\n",
      "\n",
      "Summer is here.\n",
      "\n",
      "Where is Rain?\n",
      "\n"
     ]
    }
   ],
   "source": [
    "from textwrap3 import wrap\n",
    "f = open('poem.txt'). readlines()\n",
    "f.sort()\n",
    "for i in f:\n",
    "    print(i)\n"
   ]
  },
  {
   "cell_type": "markdown",
   "metadata": {},
   "source": [
    "## Reformatting Paragraphs"
   ]
  },
  {
   "cell_type": "code",
   "execution_count": 13,
   "metadata": {},
   "outputs": [
    {
     "name": "stdout",
     "output_type": "stream",
     "text": [
      "In late summer 1945, guests are gathered for the wedding reception of Don Vito\n",
      "Corleones daughter Connie (Talia Shire) and Carlo Rizzi (Gianni Russo). Vito\n",
      "(Marlon Brando), the head of the Corleone Mafia family, is known to friends and\n",
      "associates as Godfather. He and Tom Hagen (Robert Duvall), the Corleone family\n",
      "lawyer, are hearing requests for favors because, according to Italian tradition,\n",
      "no Sicilian can refuse a request on his daughters wedding day.\n"
     ]
    }
   ],
   "source": [
    "text = 'In late summer 1945, guests are gathered for the wedding reception of Don Vito  Corleones daughter Connie (Talia Shire) and Carlo Rizzi (Gianni Russo). Vito (Marlon Brando), the head of the Corleone Mafia family, is known to friends and associates as Godfather. He and Tom Hagen (Robert Duvall), the Corleone family lawyer, are hearing requests for favors because, according to Italian tradition, no Sicilian can refuse a request on his daughters wedding day.'\n",
    "x = wrap(text, 80)\n",
    "for i in range(len(x)):\n",
    " print(x[i])"
   ]
  },
  {
   "cell_type": "markdown",
   "metadata": {},
   "source": [
    "## Usage of textwrap3 library"
   ]
  },
  {
   "cell_type": "code",
   "execution_count": 14,
   "metadata": {},
   "outputs": [
    {
     "name": "stdout",
     "output_type": "stream",
     "text": [
      "**Before Formatting**\n",
      " \n",
      "Summer is here.\n",
      "\n",
      "Sky is bright.\n",
      "\n",
      "Birds are gone.\n",
      "\n",
      "Nests are empty.\n",
      "\n",
      "Where is Rain?\n",
      "\n",
      " \n",
      "**After Formatting**\n",
      " \n",
      "Summer is here.\n",
      "Sky is bright.\n",
      "Birds are gone.\n",
      "Nests are empty.\n",
      "Where is Rain?\n"
     ]
    }
   ],
   "source": [
    "import textwrap3\n",
    "f = (\"poem.txt\")\n",
    "print(\"**Before Formatting**\")\n",
    "print(\" \")\n",
    "x=open(f).readlines()\n",
    "for i in range(len(x)):\n",
    "    print(x[i])\n",
    "print(\" \")\n",
    "print(\"**After Formatting**\")\n",
    "print(\" \")\n",
    "for i in range(len(x)):\n",
    "    dedented_text = textwrap3. dedent(x[i]). strip()\n",
    "    print(dedented_text)"
   ]
  },
  {
   "cell_type": "markdown",
   "metadata": {},
   "source": [
    "## Counting Token in Paragraphs"
   ]
  },
  {
   "cell_type": "code",
   "execution_count": 18,
   "metadata": {},
   "outputs": [
    {
     "name": "stdout",
     "output_type": "stream",
     "text": [
      "Forced to flee England, the Andrews family books passage to a fresh start in a distant country, only to discover a barren, inhospitable land at the end of their crossing. To seventeen-year-old Lavinia, uprooted from everything familiar, it seems a fate worse than the one they left behind. Driven by loneliness she begins a journal.\n"
     ]
    }
   ],
   "source": [
    "f2 = (\"a.txt\")\n",
    "with open( f2, 'r' ) as file:\n",
    "    lines_in_file = file. read()\n",
    "    print(lines_in_file)"
   ]
  },
  {
   "cell_type": "markdown",
   "metadata": {},
   "source": [
    "## Importing NLTK Library "
   ]
  },
  {
   "cell_type": "code",
   "execution_count": 23,
   "metadata": {},
   "outputs": [
    {
     "name": "stderr",
     "output_type": "stream",
     "text": [
      "[nltk_data] Downloading package punkt to\n",
      "[nltk_data]     C:\\Users\\anant\\AppData\\Roaming\\nltk_data...\n",
      "[nltk_data]   Unzipping tokenizers\\punkt.zip.\n"
     ]
    },
    {
     "data": {
      "text/plain": [
       "True"
      ]
     },
     "execution_count": 23,
     "metadata": {},
     "output_type": "execute_result"
    }
   ],
   "source": [
    "import nltk\n",
    "nltk.download('punkt')"
   ]
  },
  {
   "cell_type": "markdown",
   "metadata": {},
   "source": [
    "### NLTK Module word_tokenize() method"
   ]
  },
  {
   "cell_type": "code",
   "execution_count": 24,
   "metadata": {},
   "outputs": [
    {
     "name": "stdout",
     "output_type": "stream",
     "text": [
      "['Forced', 'to', 'flee', 'England', ',', 'the', 'Andrews', 'family', 'books', 'passage', 'to', 'a', 'fresh', 'start', 'in', 'a', 'distant', 'country', ',', 'only', 'to', 'discover', 'a', 'barren', ',', 'inhospitable', 'land', 'at', 'the', 'end', 'of', 'their', 'crossing', '.', 'To', 'seventeen-year-old', 'Lavinia', ',', 'uprooted', 'from', 'everything', 'familiar', ',', 'it', 'seems', 'a', 'fate', 'worse', 'than', 'the', 'one', 'they', 'left', 'behind', '.', 'Driven', 'by', 'loneliness', 'she', 'begins', 'a', 'journal', '.'] \n",
      "Number of Words: 63\n"
     ]
    }
   ],
   "source": [
    "with open( f2, 'r' ) as file:\n",
    "    lines_in_file = file. read()\n",
    "    nltk_token = nltk.word_tokenize(lines_in_file)\n",
    "    print(nltk_token,\"\\nNumber of Words:\",len(nltk_token))"
   ]
  },
  {
   "cell_type": "code",
   "execution_count": null,
   "metadata": {},
   "outputs": [],
   "source": []
  },
  {
   "cell_type": "markdown",
   "metadata": {},
   "source": [
    "### Counting Words \n",
    "### Using Split()       #removed symbols"
   ]
  },
  {
   "cell_type": "code",
   "execution_count": 25,
   "metadata": {},
   "outputs": [
    {
     "name": "stdout",
     "output_type": "stream",
     "text": [
      "['Forced', 'to', 'flee', 'England,', 'the', 'Andrews', 'family', 'books', 'passage', 'to', 'a', 'fresh', 'start', 'in', 'a', 'distant', 'country,', 'only', 'to', 'discover', 'a', 'barren,', 'inhospitable', 'land', 'at', 'the', 'end', 'of', 'their', 'crossing.', 'To', 'seventeen-year-old', 'Lavinia,', 'uprooted', 'from', 'everything', 'familiar,', 'it', 'seems', 'a', 'fate', 'worse', 'than', 'the', 'one', 'they', 'left', 'behind.', 'Driven', 'by', 'loneliness', 'she', 'begins', 'a', 'journal.']\n",
      "\n",
      "\n",
      "Number of Words:  55\n"
     ]
    }
   ],
   "source": [
    "with open( f2, 'r' ) as file:\n",
    "    lines_in_file = file. read()\n",
    "    print(lines_in_file. split())\n",
    "    print(\"\\n\")\n",
    "    print(\"Number of Words: \" , len(lines_in_file. split()))"
   ]
  },
  {
   "cell_type": "code",
   "execution_count": null,
   "metadata": {},
   "outputs": [],
   "source": []
  }
 ],
 "metadata": {
  "kernelspec": {
   "display_name": "Python 3",
   "language": "python",
   "name": "python3"
  },
  "language_info": {
   "codemirror_mode": {
    "name": "ipython",
    "version": 3
   },
   "file_extension": ".py",
   "mimetype": "text/x-python",
   "name": "python",
   "nbconvert_exporter": "python",
   "pygments_lexer": "ipython3",
   "version": "3.8.3"
  }
 },
 "nbformat": 4,
 "nbformat_minor": 4
}
