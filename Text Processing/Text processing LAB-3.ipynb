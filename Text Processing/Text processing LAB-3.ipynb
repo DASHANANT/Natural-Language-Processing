{
 "cells": [
  {
   "cell_type": "raw",
   "metadata": {},
   "source": [
    "Python - Counting Token in Paragraphs"
   ]
  },
  {
   "cell_type": "code",
   "execution_count": 18,
   "metadata": {},
   "outputs": [
    {
     "name": "stdout",
     "output_type": "stream",
     "text": [
      "Forced to flee England, the Andrews family books passage to a fresh start in a distant country, only to discover a barren, inhospitable land at the end of their crossing. To seventeen-year-old Lavinia, uprooted from everything familiar, it seems a fate worse than the one they left behind. Driven by loneliness she begins a journal.\n"
     ]
    }
   ],
   "source": [
    "f2 = (\"a.txt\")\n",
    "with open( f2, 'r' ) as file:\n",
    "    lines_in_file = file. read()\n",
    "    print(lines_in_file)"
   ]
  },
  {
   "cell_type": "code",
   "execution_count": 23,
   "metadata": {},
   "outputs": [
    {
     "name": "stderr",
     "output_type": "stream",
     "text": [
      "[nltk_data] Downloading package punkt to\n",
      "[nltk_data]     C:\\Users\\anant\\AppData\\Roaming\\nltk_data...\n",
      "[nltk_data]   Unzipping tokenizers\\punkt.zip.\n"
     ]
    },
    {
     "data": {
      "text/plain": [
       "True"
      ]
     },
     "execution_count": 23,
     "metadata": {},
     "output_type": "execute_result"
    }
   ],
   "source": [
    "import nltk\n",
    "nltk.download('punkt')"
   ]
  },
  {
   "cell_type": "code",
   "execution_count": 24,
   "metadata": {},
   "outputs": [
    {
     "name": "stdout",
     "output_type": "stream",
     "text": [
      "['Forced', 'to', 'flee', 'England', ',', 'the', 'Andrews', 'family', 'books', 'passage', 'to', 'a', 'fresh', 'start', 'in', 'a', 'distant', 'country', ',', 'only', 'to', 'discover', 'a', 'barren', ',', 'inhospitable', 'land', 'at', 'the', 'end', 'of', 'their', 'crossing', '.', 'To', 'seventeen-year-old', 'Lavinia', ',', 'uprooted', 'from', 'everything', 'familiar', ',', 'it', 'seems', 'a', 'fate', 'worse', 'than', 'the', 'one', 'they', 'left', 'behind', '.', 'Driven', 'by', 'loneliness', 'she', 'begins', 'a', 'journal', '.'] \n",
      "Number of Words: 63\n"
     ]
    }
   ],
   "source": [
    "with open( f2, 'r' ) as file:\n",
    "    lines_in_file = file. read()\n",
    "    nltk_token = nltk.word_tokenize(lines_in_file)\n",
    "    print(nltk_token,\"\\nNumber of Words:\",len(nltk_token))"
   ]
  },
  {
   "cell_type": "raw",
   "metadata": {},
   "source": [
    "Counting Words Using Split        #removed symbols"
   ]
  },
  {
   "cell_type": "code",
   "execution_count": 25,
   "metadata": {},
   "outputs": [
    {
     "name": "stdout",
     "output_type": "stream",
     "text": [
      "['Forced', 'to', 'flee', 'England,', 'the', 'Andrews', 'family', 'books', 'passage', 'to', 'a', 'fresh', 'start', 'in', 'a', 'distant', 'country,', 'only', 'to', 'discover', 'a', 'barren,', 'inhospitable', 'land', 'at', 'the', 'end', 'of', 'their', 'crossing.', 'To', 'seventeen-year-old', 'Lavinia,', 'uprooted', 'from', 'everything', 'familiar,', 'it', 'seems', 'a', 'fate', 'worse', 'than', 'the', 'one', 'they', 'left', 'behind.', 'Driven', 'by', 'loneliness', 'she', 'begins', 'a', 'journal.']\n",
      "\n",
      "\n",
      "Number of Words:  55\n"
     ]
    }
   ],
   "source": [
    "with open( f2, 'r' ) as file:\n",
    "    lines_in_file = file. read()\n",
    "    print(lines_in_file. split())\n",
    "    print(\"\\n\")\n",
    "    print(\"Number of Words: \" , len(lines_in_file. split()))"
   ]
  },
  {
   "cell_type": "raw",
   "metadata": {},
   "source": [
    "Python - Strings as Files"
   ]
  },
  {
   "cell_type": "code",
   "execution_count": 27,
   "metadata": {},
   "outputs": [
    {
     "name": "stdout",
     "output_type": "stream",
     "text": [
      "line no 0\n",
      "Forced to flee England, the Andrews family books passage to a fresh start in a distant country, only to discover a barren, inhospitable land at the end of their crossing. \n",
      "\n",
      "line no 1\n",
      "To seventeen-year-old Lavinia, uprooted from everything familiar, it seems a fate worse than the one they left behind. \n",
      "\n",
      "line no 2\n",
      "Driven by loneliness she begins a journal.\n"
     ]
    }
   ],
   "source": [
    "with open(f2,'r') as file:\n",
    "    lines = file.readlines()\n",
    "for i in range(len(lines)):\n",
    "    print(\"line no\",i)\n",
    "    print(lines[i])"
   ]
  },
  {
   "cell_type": "raw",
   "metadata": {},
   "source": [
    "File as a String"
   ]
  },
  {
   "cell_type": "code",
   "execution_count": 28,
   "metadata": {},
   "outputs": [
    {
     "name": "stdout",
     "output_type": "stream",
     "text": [
      "<class 'str'>\n",
      "Forced to flee England, the Andrews family books passage to a fresh start in a distant country, only to discover a barren, inhospitable land at the end of their crossing.To seventeen-year-old Lavinia, uprooted from everything familiar, it seems a fate worse than the one they left behind.Driven by loneliness she begins a journal.\n"
     ]
    }
   ],
   "source": [
    "with open( f2 , 'r' ) as BigFile:\n",
    "    data=BigFile. read(). replace(' \\n' , '' )         #print as a one paragaph\n",
    "# Verify the string type\n",
    "print(type(data))\n",
    "print(data)"
   ]
  },
  {
   "cell_type": "raw",
   "metadata": {},
   "source": [
    "Python - Filter Duplicate Words"
   ]
  },
  {
   "cell_type": "code",
   "execution_count": 29,
   "metadata": {},
   "outputs": [
    {
     "name": "stdout",
     "output_type": "stream",
     "text": [
      "['blue', 'has', 'a', '.', 'also', 'is', 'ocean', 'colour', 'the', 'Rainbow', 'The', 'Sky']\n"
     ]
    }
   ],
   "source": [
    "word_data = \"The Sky is blue also the ocean is blue also Rainbow has a blue colour.\"\n",
    "# First Word tokenization\n",
    "nltk_tokens = nltk.word_tokenize(word_data)\n",
    "no_order = list(set(nltk_tokens))\n",
    "print(no_order)"
   ]
  },
  {
   "cell_type": "raw",
   "metadata": {},
   "source": [
    "Preserving the Order"
   ]
  },
  {
   "cell_type": "code",
   "execution_count": 30,
   "metadata": {},
   "outputs": [
    {
     "data": {
      "text/plain": [
       "['The',\n",
       " 'Sky',\n",
       " 'is',\n",
       " 'blue',\n",
       " 'also',\n",
       " 'the',\n",
       " 'ocean',\n",
       " 'Rainbow',\n",
       " 'has',\n",
       " 'a',\n",
       " 'colour',\n",
       " '.']"
      ]
     },
     "execution_count": 30,
     "metadata": {},
     "output_type": "execute_result"
    }
   ],
   "source": [
    "ordered_tokens = set()\n",
    "order = [ ]\n",
    "for i in nltk_tokens:\n",
    "    if i not in ordered_tokens:\n",
    "        ordered_tokens.add(i)\n",
    "        order.append(i)\n",
    "order"
   ]
  },
  {
   "cell_type": "raw",
   "metadata": {},
   "source": [
    "Python - Extract Emails from Text\n",
    "findall() function"
   ]
  },
  {
   "cell_type": "code",
   "execution_count": 31,
   "metadata": {},
   "outputs": [
    {
     "name": "stdout",
     "output_type": "stream",
     "text": [
      "['contact@tutorialspoint.com', 'feedback@tp.com']\n"
     ]
    }
   ],
   "source": [
    "import re\n",
    "e1 = \"Please contact us at contact@tutorialspoint.com for further information.You can also give feedbacl at feedback@tp.com\"\n",
    " #define the pattern of an email ID\n",
    "email = re.findall(r\"[aa-z0-9\\.\\-+_]+@[a-z0-9\\.\\-+_]+\\.[a-z]+\", e1)  \n",
    "print(email)"
   ]
  },
  {
   "cell_type": "raw",
   "metadata": {},
   "source": [
    "Python - Text Processing State Machine"
   ]
  },
  {
   "cell_type": "code",
   "execution_count": 32,
   "metadata": {},
   "outputs": [
    {
     "name": "stdout",
     "output_type": "stream",
     "text": [
      "[True, False, False]\n",
      "[True, True, True, True, True, False, False]\n"
     ]
    }
   ],
   "source": [
    "class StateMachine:\n",
    "    def start(self):\n",
    "        self. state = self. startState\n",
    "# Step through the input\n",
    "    def step(self, inp):\n",
    "        (s, o) = self. getNextValues(self. state, inp)\n",
    "        self. state = s\n",
    "        return o\n",
    "# Loop through the input\n",
    "    def feeder(self, inputs):\n",
    "        self. start()\n",
    "        return [ self. step(inp) for inp in inputs]\n",
    "# Determine the TRUE or FALSE state\n",
    "class TextSeq(StateMachine):\n",
    "    startState = 0\n",
    "    def getNextValues(self, state, inp):\n",
    "        if state == 0 and inp == 'A' :\n",
    "            return (1, True)\n",
    "        elif state == 1 and inp == 'K' :\n",
    "            return (2, True)\n",
    "        elif state == 2 and inp == 'C' :\n",
    "            return (0, True)\n",
    "        else:\n",
    "            return (3, False)\n",
    "InSeq = TextSeq()\n",
    "x = InSeq. feeder([ 'A' , 'A' , 'K' ])\n",
    "print(x)\n",
    "y = InSeq. feeder([ 'A' , 'K' , 'C' , 'A' , 'K' , 'A' , 'G' ])\n",
    "print(y)\n",
    "\n",
    "\n",
    "#If this specific sequence is maintained in the input string \n",
    "#the state of the machine remains TRUE \n",
    "#but as soon as the sequence deviates, the state becomes FALSE and remains FALSE after wards."
   ]
  }
 ],
 "metadata": {
  "kernelspec": {
   "display_name": "Python 3",
   "language": "python",
   "name": "python3"
  },
  "language_info": {
   "codemirror_mode": {
    "name": "ipython",
    "version": 3
   },
   "file_extension": ".py",
   "mimetype": "text/x-python",
   "name": "python",
   "nbconvert_exporter": "python",
   "pygments_lexer": "ipython3",
   "version": "3.8.3"
  }
 },
 "nbformat": 4,
 "nbformat_minor": 4
}
