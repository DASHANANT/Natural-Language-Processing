{
 "cells": [
  {
   "cell_type": "code",
   "execution_count": 1,
   "metadata": {},
   "outputs": [],
   "source": [
    "import nltk\n",
    "import math\n",
    "import re\n",
    "from nltk.corpus.reader import CorpusReader\n",
    "from nltk.probability import FreqDist"
   ]
  },
  {
   "cell_type": "code",
   "execution_count": 3,
   "metadata": {},
   "outputs": [],
   "source": [
    "from nltk.corpus import wordnet"
   ]
  },
  {
   "cell_type": "code",
   "execution_count": 4,
   "metadata": {},
   "outputs": [],
   "source": [
    "syns = wordnet.synsets(\"house\")"
   ]
  },
  {
   "cell_type": "code",
   "execution_count": 5,
   "metadata": {},
   "outputs": [
    {
     "data": {
      "text/plain": [
       "[Synset('house.n.01'),\n",
       " Synset('firm.n.01'),\n",
       " Synset('house.n.03'),\n",
       " Synset('house.n.04'),\n",
       " Synset('house.n.05'),\n",
       " Synset('house.n.06'),\n",
       " Synset('house.n.07'),\n",
       " Synset('sign_of_the_zodiac.n.01'),\n",
       " Synset('house.n.09'),\n",
       " Synset('family.n.01'),\n",
       " Synset('theater.n.01'),\n",
       " Synset('house.n.12'),\n",
       " Synset('house.v.01'),\n",
       " Synset('house.v.02')]"
      ]
     },
     "execution_count": 5,
     "metadata": {},
     "output_type": "execute_result"
    }
   ],
   "source": [
    "syns"
   ]
  },
  {
   "cell_type": "code",
   "execution_count": 9,
   "metadata": {},
   "outputs": [
    {
     "name": "stdout",
     "output_type": "stream",
     "text": [
      "Synset('house.n.01') ----------> a dwelling that serves as living quarters for one or more families\n",
      "--------------------\n",
      "Synset('firm.n.01') ----------> the members of a business organization that owns or operates one or more establishments\n",
      "--------------------\n",
      "Synset('house.n.03') ----------> the members of a religious community living together\n",
      "--------------------\n",
      "Synset('house.n.04') ----------> the audience gathered together in a theatre or cinema\n",
      "--------------------\n",
      "Synset('house.n.05') ----------> an official assembly having legislative powers\n",
      "--------------------\n",
      "Synset('house.n.06') ----------> aristocratic family line\n",
      "--------------------\n",
      "Synset('house.n.07') ----------> play in which children take the roles of father or mother or children and pretend to interact like adults\n",
      "--------------------\n",
      "Synset('sign_of_the_zodiac.n.01') ----------> (astrology) one of 12 equal areas into which the zodiac is divided\n",
      "--------------------\n",
      "Synset('house.n.09') ----------> the management of a gambling house or casino\n",
      "--------------------\n",
      "Synset('family.n.01') ----------> a social unit living together\n",
      "--------------------\n",
      "Synset('theater.n.01') ----------> a building where theatrical performances or motion-picture shows can be presented\n",
      "--------------------\n",
      "Synset('house.n.12') ----------> a building in which something is sheltered or located\n",
      "--------------------\n",
      "Synset('house.v.01') ----------> contain or cover\n",
      "--------------------\n",
      "Synset('house.v.02') ----------> provide housing for\n",
      "--------------------\n"
     ]
    }
   ],
   "source": [
    "for i in range(len(syns)):    \n",
    "    print(syns[i],'---------->',syns[i].definition())\n",
    "    print(\"--------------------\")"
   ]
  },
  {
   "cell_type": "code",
   "execution_count": 11,
   "metadata": {},
   "outputs": [],
   "source": [
    "from nltk.corpus import senseval"
   ]
  },
  {
   "cell_type": "code",
   "execution_count": 13,
   "metadata": {},
   "outputs": [
    {
     "name": "stderr",
     "output_type": "stream",
     "text": [
      "[nltk_data] Downloading package sentiwordnet to\n",
      "[nltk_data]     C:\\Users\\Anant\\AppData\\Roaming\\nltk_data...\n",
      "[nltk_data]   Unzipping corpora\\sentiwordnet.zip.\n"
     ]
    },
    {
     "data": {
      "text/plain": [
       "True"
      ]
     },
     "execution_count": 13,
     "metadata": {},
     "output_type": "execute_result"
    }
   ],
   "source": [
    "import nltk\n",
    "nltk.download('sentiwordnet')"
   ]
  },
  {
   "cell_type": "code",
   "execution_count": 14,
   "metadata": {},
   "outputs": [
    {
     "data": {
      "text/plain": [
       "0.875"
      ]
     },
     "execution_count": 14,
     "metadata": {},
     "output_type": "execute_result"
    }
   ],
   "source": [
    "from nltk.corpus import sentiwordnet \n",
    "happy = sentiwordnet.senti_synsets('happy', 'a')\n",
    "happy0 = list(happy)[0]\n",
    "happy0.pos_score()"
   ]
  },
  {
   "cell_type": "code",
   "execution_count": 16,
   "metadata": {},
   "outputs": [
    {
     "data": {
      "text/plain": [
       "[SentiSynset('happy.a.01'),\n",
       " SentiSynset('felicitous.s.02'),\n",
       " SentiSynset('glad.s.02'),\n",
       " SentiSynset('happy.s.04')]"
      ]
     },
     "execution_count": 16,
     "metadata": {},
     "output_type": "execute_result"
    }
   ],
   "source": [
    "list(sentiwordnet.senti_synsets('happy'))"
   ]
  }
 ],
 "metadata": {
  "kernelspec": {
   "display_name": "Python 3",
   "language": "python",
   "name": "python3"
  },
  "language_info": {
   "codemirror_mode": {
    "name": "ipython",
    "version": 3
   },
   "file_extension": ".py",
   "mimetype": "text/x-python",
   "name": "python",
   "nbconvert_exporter": "python",
   "pygments_lexer": "ipython3",
   "version": "3.8.3"
  }
 },
 "nbformat": 4,
 "nbformat_minor": 4
}
