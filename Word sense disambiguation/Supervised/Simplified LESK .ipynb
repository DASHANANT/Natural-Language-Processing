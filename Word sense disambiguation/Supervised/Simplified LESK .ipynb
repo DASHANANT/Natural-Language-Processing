{
 "cells": [
  {
   "cell_type": "code",
   "execution_count": 1,
   "metadata": {},
   "outputs": [],
   "source": [
    "import numpy as np\n",
    "import nltk\n",
    "from nltk.corpus import wordnet\n",
    "from nltk.tokenize import word_tokenize\n",
    "from nltk.corpus import stopwords\n",
    "\n",
    "class SimplifiedLesk: \n",
    "    def __init__(self):\n",
    "        self.stopwords = set(stopwords.words('english'))\n",
    "\n",
    "    def disambiguate(self, word, sentence):       \n",
    "        word_senses = wordnet.synsets(word)\n",
    "        best_sense = word_senses[0]  # Assume that first sense is most freq.\n",
    "        max_overlap = 0\n",
    "        context = set(word_tokenize(sentence))\n",
    "        for sense in word_senses:\n",
    "            signature = self.tokenized_gloss(sense)\n",
    "            overlap = self.compute_overlap(signature, context)            \n",
    "            if overlap > max_overlap:\n",
    "                max_overlap = overlap\n",
    "                best_sense = sense\n",
    "        return best_sense  \n",
    "    \n",
    "    \n",
    "    def tokenized_gloss(self, sense):        \n",
    "        tokens = set(word_tokenize(sense.definition()))\n",
    "        for example in sense.examples():\n",
    "            tokens.union(set(word_tokenize(example)))\n",
    "        return tokens\n",
    "\n",
    "    def compute_overlap(self, signature, context):       \n",
    "        sig = signature.difference(self.stopwords)\n",
    "        return len(sig.intersection(context))\n"
   ]
  },
  {
   "cell_type": "code",
   "execution_count": 2,
   "metadata": {},
   "outputs": [
    {
     "data": {
      "text/plain": [
       "Synset('knife.v.01')"
      ]
     },
     "execution_count": 2,
     "metadata": {},
     "output_type": "execute_result"
    }
   ],
   "source": [
    "model=SimplifiedLesk()\n",
    "model.disambiguate('knife', 'She chopped the vegetables with a chef’s knife.')"
   ]
  }
 ],
 "metadata": {
  "kernelspec": {
   "display_name": "Python 3",
   "language": "python",
   "name": "python3"
  },
  "language_info": {
   "codemirror_mode": {
    "name": "ipython",
    "version": 3
   },
   "file_extension": ".py",
   "mimetype": "text/x-python",
   "name": "python",
   "nbconvert_exporter": "python",
   "pygments_lexer": "ipython3",
   "version": "3.8.8"
  }
 },
 "nbformat": 4,
 "nbformat_minor": 4
}
